{
  "nbformat": 4,
  "nbformat_minor": 0,
  "metadata": {
    "colab": {
      "provenance": []
    },
    "kernelspec": {
      "name": "python3",
      "display_name": "Python 3"
    },
    "language_info": {
      "name": "python"
    }
  },
  "cells": [
    {
      "cell_type": "markdown",
      "source": [
        "**Downloading the data**"
      ],
      "metadata": {
        "id": "99vFP2Wgjutm"
      }
    },
    {
      "cell_type": "code",
      "execution_count": null,
      "metadata": {
        "id": "vTfSBgscjHjj"
      },
      "outputs": [],
      "source": [
        "!kaggle datasets download meowmeowmeowmeowmeow/gtsrb-german-traffic-sign\n",
        "!unzip gtsrb-german-traffic-sign"
      ]
    },
    {
      "cell_type": "markdown",
      "source": [
        "**Viewing the test Images**"
      ],
      "metadata": {
        "id": "CwBhAG4YjyBF"
      }
    },
    {
      "cell_type": "code",
      "source": [
        "import random\n",
        "from matplotlib.image import imread\n",
        "data_dir = '/content/'\n",
        "test = pd.read_csv(data_dir + '/Test.csv')\n",
        "imgs = test[\"Path\"].values\n",
        "\n",
        "plt.figure(figsize=(25,25))\n",
        "\n",
        "for i in range(1,26):\n",
        "    plt.subplot(5,5,i)\n",
        "    random_img_path = data_dir + '/' + random.choice(imgs)\n",
        "    rand_img = imread(random_img_path)\n",
        "    plt.imshow(rand_img)\n",
        "    plt.grid(b=None)\n",
        "    plt.xlabel(rand_img.shape[1], fontsize = 20)#width of image\n",
        "    plt.ylabel(rand_img.shape[0], fontsize = 20)#height of image"
      ],
      "metadata": {
        "id": "wiweyrjOjtrg"
      },
      "execution_count": null,
      "outputs": []
    },
    {
      "cell_type": "markdown",
      "source": [
        "**Get the Image Data and Lables**"
      ],
      "metadata": {
        "id": "mikYn0SQkfAx"
      }
    },
    {
      "cell_type": "code",
      "source": [
        "image_data = []\n",
        "image_labels = []\n",
        "\n",
        "IMG_HEIGHT = 50\n",
        "IMG_WIDTH  = 50\n",
        "\n",
        "NUM_CATEGORIES = len(os.listdir(data_dir+\"Train/\"))\n",
        "print(\"Total number of classes are : \"+NUM_CATEGORIES)\n",
        "\n",
        "for i in range(NUM_CATEGORIES):\n",
        "    path = data_dir + '/Train/' + str(i)\n",
        "    images = os.listdir(path)\n",
        "\n",
        "    for img in images:\n",
        "        try:\n",
        "            image = cv2.imread(path + '/' + img)\n",
        "            image_fromarray = Image.fromarray(image, 'RGB')\n",
        "            resize_image = image_fromarray.resize((IMG_HEIGHT, IMG_WIDTH))\n",
        "            image_data.append(np.array(resize_image))\n",
        "            image_labels.append(i)\n",
        "        except:\n",
        "            print(\"Error in \" + img)\n",
        "\n",
        "#list to numpy array\n",
        "image_data = np.array(image_data)\n",
        "image_labels = np.array(image_labels)"
      ],
      "metadata": {
        "id": "VXOwvL2skij9"
      },
      "execution_count": null,
      "outputs": []
    },
    {
      "cell_type": "markdown",
      "source": [
        "**Splitting the data into test and train**"
      ],
      "metadata": {
        "id": "DIwaY2BYlSdR"
      }
    },
    {
      "cell_type": "code",
      "source": [
        "x_train, x_val, y_train, y_val = train_test_split(image_data, image_labels , test_size = 0.2, random_state = 42)"
      ],
      "metadata": {
        "id": "uwpL8IX5lOdE"
      },
      "execution_count": null,
      "outputs": []
    },
    {
      "cell_type": "markdown",
      "source": [
        "**Making The Model**"
      ],
      "metadata": {
        "id": "tNZO7beOle43"
      }
    },
    {
      "cell_type": "code",
      "source": [
        "model = keras.models.Sequential([    \n",
        "    keras.layers.Conv2D(filters=16, kernel_size=(3,3), activation='relu', input_shape=(IMG_HEIGHT,IMG_WIDTH,channels)),\n",
        "    keras.layers.Conv2D(filters=32, kernel_size=(3,3), activation='relu'),\n",
        "    keras.layers.MaxPool2D(pool_size=(2, 2)),\n",
        "    keras.layers.BatchNormalization(axis=-1),\n",
        "    \n",
        "    keras.layers.Conv2D(filters=64, kernel_size=(3,3), activation='relu'),\n",
        "    keras.layers.Conv2D(filters=128, kernel_size=(3,3), activation='relu'),\n",
        "    keras.layers.MaxPool2D(pool_size=(2, 2)),\n",
        "    keras.layers.BatchNormalization(axis=-1),\n",
        "    \n",
        "    keras.layers.Flatten(),\n",
        "    keras.layers.Dense(512, activation='relu'),\n",
        "    keras.layers.BatchNormalization(),\n",
        "    keras.layers.Dropout(rate=0.5),\n",
        "    \n",
        "    keras.layers.Dense(43, activation='softmax')\n",
        "])\n",
        "\n",
        "lr = 0.001\n",
        "epochs = 30\n",
        "\n",
        "opt = Adam(lr=lr, decay=lr / (epochs * 0.5))\n",
        "model.compile(loss='categorical_crossentropy', optimizer=opt, metrics=['accuracy'])\n",
        "model.summary()"
      ],
      "metadata": {
        "id": "lLCfQswHlanb"
      },
      "execution_count": null,
      "outputs": []
    },
    {
      "cell_type": "markdown",
      "source": [
        "**Train The Model**"
      ],
      "metadata": {
        "id": "j2uimZiYlsv8"
      }
    },
    {
      "cell_type": "code",
      "source": [
        "auguments = ImageDataGenerator(\n",
        "    rotation_range=10,\n",
        "    zoom_range=0.15,\n",
        "    width_shift_range=0.1,\n",
        "    height_shift_range=0.1,\n",
        "    shear_range=0.15,\n",
        "    horizontal_flip=False,\n",
        "    vertical_flip=False,\n",
        "    fill_mode=\"nearest\")\n",
        "\n",
        "history = model.fit(auguments.flow(X_train, y_train, batch_size=32), epochs=epochs, validation_data=(X_val, y_val))"
      ],
      "metadata": {
        "id": "daSlcLcYlmQs"
      },
      "execution_count": null,
      "outputs": []
    },
    {
      "cell_type": "markdown",
      "source": [
        "**Stats**"
      ],
      "metadata": {
        "id": "P6GNWYkkmBHe"
      }
    },
    {
      "cell_type": "markdown",
      "source": [
        "**Save the model**"
      ],
      "metadata": {
        "id": "c-kO8HIGmDlZ"
      }
    },
    {
      "cell_type": "markdown",
      "source": [
        "**Reoload The Saved Model**"
      ],
      "metadata": {
        "id": "BcAai4gkmGHw"
      }
    },
    {
      "cell_type": "markdown",
      "source": [
        "**Predict With Random Images**"
      ],
      "metadata": {
        "id": "HaJyC0jwmMFJ"
      }
    }
  ]
}